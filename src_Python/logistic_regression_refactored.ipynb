{
 "cells":[
  {
   "cell_type":"code",
   "source":[
    "# Import the required libraries\n",
    "\n",
    "import pandas as pd\n",
    "import matplotlib.pyplot as plt\n",
    "from imblearn.over_sampling import SMOTE\n",
    "from sklearn.model_selection import train_test_split\n",
    "from sklearn.linear_model import LogisticRegression\n",
    "from sklearn.metrics import accuracy_score, classification_report"
   ],
   "execution_count":9,
   "outputs":[
    
   ],
   "metadata":{
    "datalore":{
     "type":"CODE",
     "hide_input_from_viewers":false,
     "hide_output_from_viewers":false
    }
   }
  },
  {
   "cell_type":"code",
   "source":[
    "# Read the dataset\n",
    "\n",
    "pulsar_stars = pd.read_csv(\"pulsar_stars.csv\", delimiter=\",\")\n",
    "pulsar_stars.head()"
   ],
   "execution_count":3,
   "outputs":[
    {
     "data":{
      "text\/html":[
       "<div>\n",
       "<style scoped>\n",
       "    .dataframe tbody tr th:only-of-type {\n",
       "        vertical-align: middle;\n",
       "    }\n",
       "\n",
       "    .dataframe tbody tr th {\n",
       "        vertical-align: top;\n",
       "    }\n",
       "\n",
       "    .dataframe thead th {\n",
       "        text-align: right;\n",
       "    }\n",
       "<\/style>\n",
       "<table border=\"1\" class=\"dataframe\">\n",
       "  <thead>\n",
       "    <tr style=\"text-align: right;\">\n",
       "      <th><\/th>\n",
       "      <th>Mean of the integrated profile<\/th>\n",
       "      <th>Standard deviation of the integrated profile<\/th>\n",
       "      <th>Excess kurtosis of the integrated profile<\/th>\n",
       "      <th>Skewness of the integrated profile<\/th>\n",
       "      <th>Mean of the DM-SNR curve<\/th>\n",
       "      <th>Standard deviation of the DM-SNR curve<\/th>\n",
       "      <th>Excess kurtosis of the DM-SNR curve<\/th>\n",
       "      <th>Skewness of the DM-SNR curve<\/th>\n",
       "      <th>target_class<\/th>\n",
       "    <\/tr>\n",
       "  <\/thead>\n",
       "  <tbody>\n",
       "    <tr>\n",
       "      <th>0<\/th>\n",
       "      <td>140.562500<\/td>\n",
       "      <td>55.683782<\/td>\n",
       "      <td>-0.234571<\/td>\n",
       "      <td>-0.699648<\/td>\n",
       "      <td>3.199833<\/td>\n",
       "      <td>19.110426<\/td>\n",
       "      <td>7.975532<\/td>\n",
       "      <td>74.242225<\/td>\n",
       "      <td>0<\/td>\n",
       "    <\/tr>\n",
       "    <tr>\n",
       "      <th>1<\/th>\n",
       "      <td>102.507812<\/td>\n",
       "      <td>58.882430<\/td>\n",
       "      <td>0.465318<\/td>\n",
       "      <td>-0.515088<\/td>\n",
       "      <td>1.677258<\/td>\n",
       "      <td>14.860146<\/td>\n",
       "      <td>10.576487<\/td>\n",
       "      <td>127.393580<\/td>\n",
       "      <td>0<\/td>\n",
       "    <\/tr>\n",
       "    <tr>\n",
       "      <th>2<\/th>\n",
       "      <td>103.015625<\/td>\n",
       "      <td>39.341649<\/td>\n",
       "      <td>0.323328<\/td>\n",
       "      <td>1.051164<\/td>\n",
       "      <td>3.121237<\/td>\n",
       "      <td>21.744669<\/td>\n",
       "      <td>7.735822<\/td>\n",
       "      <td>63.171909<\/td>\n",
       "      <td>0<\/td>\n",
       "    <\/tr>\n",
       "    <tr>\n",
       "      <th>3<\/th>\n",
       "      <td>136.750000<\/td>\n",
       "      <td>57.178449<\/td>\n",
       "      <td>-0.068415<\/td>\n",
       "      <td>-0.636238<\/td>\n",
       "      <td>3.642977<\/td>\n",
       "      <td>20.959280<\/td>\n",
       "      <td>6.896499<\/td>\n",
       "      <td>53.593661<\/td>\n",
       "      <td>0<\/td>\n",
       "    <\/tr>\n",
       "    <tr>\n",
       "      <th>4<\/th>\n",
       "      <td>88.726562<\/td>\n",
       "      <td>40.672225<\/td>\n",
       "      <td>0.600866<\/td>\n",
       "      <td>1.123492<\/td>\n",
       "      <td>1.178930<\/td>\n",
       "      <td>11.468720<\/td>\n",
       "      <td>14.269573<\/td>\n",
       "      <td>252.567306<\/td>\n",
       "      <td>0<\/td>\n",
       "    <\/tr>\n",
       "  <\/tbody>\n",
       "<\/table>\n",
       "<\/div>"
      ]
     },
     "metadata":{
      
     },
     "output_type":"display_data"
    }
   ],
   "metadata":{
    "datalore":{
     "type":"CODE",
     "hide_input_from_viewers":false,
     "hide_output_from_viewers":false
    }
   }
  },
  {
   "cell_type":"code",
   "source":[
    "# Rename the columns\n",
    "\n",
    "pulsar_stars.columns = [\n",
    "  \"mean\",\n",
    "  \"stand_deviation\",\n",
    "  \"kurtosis\",\n",
    "  \"skewness\",\n",
    "  \"mean_DM.SNR\",\n",
    "  \"stand_deviation_DM.SNR\",\n",
    "  \"kurtosis_DM.SNR\",\n",
    "  \"skewness_DM.SNR\",\n",
    "  \"class\",\n",
    "]\n",
    "pulsar_stars.head()"
   ],
   "execution_count":4,
   "outputs":[
    {
     "data":{
      "text\/html":[
       "<div>\n",
       "<style scoped>\n",
       "    .dataframe tbody tr th:only-of-type {\n",
       "        vertical-align: middle;\n",
       "    }\n",
       "\n",
       "    .dataframe tbody tr th {\n",
       "        vertical-align: top;\n",
       "    }\n",
       "\n",
       "    .dataframe thead th {\n",
       "        text-align: right;\n",
       "    }\n",
       "<\/style>\n",
       "<table border=\"1\" class=\"dataframe\">\n",
       "  <thead>\n",
       "    <tr style=\"text-align: right;\">\n",
       "      <th><\/th>\n",
       "      <th>mean<\/th>\n",
       "      <th>stand_deviation<\/th>\n",
       "      <th>kurtosis<\/th>\n",
       "      <th>skewness<\/th>\n",
       "      <th>mean_DM.SNR<\/th>\n",
       "      <th>stand_deviation_DM.SNR<\/th>\n",
       "      <th>kurtosis_DM.SNR<\/th>\n",
       "      <th>skewness_DM.SNR<\/th>\n",
       "      <th>class<\/th>\n",
       "    <\/tr>\n",
       "  <\/thead>\n",
       "  <tbody>\n",
       "    <tr>\n",
       "      <th>0<\/th>\n",
       "      <td>140.562500<\/td>\n",
       "      <td>55.683782<\/td>\n",
       "      <td>-0.234571<\/td>\n",
       "      <td>-0.699648<\/td>\n",
       "      <td>3.199833<\/td>\n",
       "      <td>19.110426<\/td>\n",
       "      <td>7.975532<\/td>\n",
       "      <td>74.242225<\/td>\n",
       "      <td>0<\/td>\n",
       "    <\/tr>\n",
       "    <tr>\n",
       "      <th>1<\/th>\n",
       "      <td>102.507812<\/td>\n",
       "      <td>58.882430<\/td>\n",
       "      <td>0.465318<\/td>\n",
       "      <td>-0.515088<\/td>\n",
       "      <td>1.677258<\/td>\n",
       "      <td>14.860146<\/td>\n",
       "      <td>10.576487<\/td>\n",
       "      <td>127.393580<\/td>\n",
       "      <td>0<\/td>\n",
       "    <\/tr>\n",
       "    <tr>\n",
       "      <th>2<\/th>\n",
       "      <td>103.015625<\/td>\n",
       "      <td>39.341649<\/td>\n",
       "      <td>0.323328<\/td>\n",
       "      <td>1.051164<\/td>\n",
       "      <td>3.121237<\/td>\n",
       "      <td>21.744669<\/td>\n",
       "      <td>7.735822<\/td>\n",
       "      <td>63.171909<\/td>\n",
       "      <td>0<\/td>\n",
       "    <\/tr>\n",
       "    <tr>\n",
       "      <th>3<\/th>\n",
       "      <td>136.750000<\/td>\n",
       "      <td>57.178449<\/td>\n",
       "      <td>-0.068415<\/td>\n",
       "      <td>-0.636238<\/td>\n",
       "      <td>3.642977<\/td>\n",
       "      <td>20.959280<\/td>\n",
       "      <td>6.896499<\/td>\n",
       "      <td>53.593661<\/td>\n",
       "      <td>0<\/td>\n",
       "    <\/tr>\n",
       "    <tr>\n",
       "      <th>4<\/th>\n",
       "      <td>88.726562<\/td>\n",
       "      <td>40.672225<\/td>\n",
       "      <td>0.600866<\/td>\n",
       "      <td>1.123492<\/td>\n",
       "      <td>1.178930<\/td>\n",
       "      <td>11.468720<\/td>\n",
       "      <td>14.269573<\/td>\n",
       "      <td>252.567306<\/td>\n",
       "      <td>0<\/td>\n",
       "    <\/tr>\n",
       "  <\/tbody>\n",
       "<\/table>\n",
       "<\/div>"
      ]
     },
     "metadata":{
      
     },
     "output_type":"display_data"
    }
   ],
   "metadata":{
    "datalore":{
     "type":"CODE",
     "hide_input_from_viewers":false,
     "hide_output_from_viewers":false
    }
   }
  },
  {
   "cell_type":"code",
   "source":[
    "# Defining training variables, we're taking all the columns\n",
    "# except the last one that is our target variable that we will try to predict.\n",
    "\n",
    "X = pulsar_stars.drop(['class'], axis=1)\n",
    "y = pulsar_stars['class']"
   ],
   "execution_count":5,
   "outputs":[
    
   ],
   "metadata":{
    "datalore":{
     "type":"CODE",
     "hide_input_from_viewers":false,
     "hide_output_from_viewers":false
    }
   }
  },
  {
   "cell_type":"code",
   "source":[
    "#since the distribution of the target variable is highly imbalanced, I will perform SMOTE resampling method\n",
    "oversample = SMOTE()\n",
    "X, y = oversample.fit_resample(X, y)"
   ],
   "execution_count":10,
   "outputs":[
    
   ],
   "metadata":{
    "datalore":{
     "type":"CODE",
     "hide_input_from_viewers":false,
     "hide_output_from_viewers":false
    }
   }
  },
  {
   "cell_type":"code",
   "source":[
    "# Creating train and test sets\n",
    "\n",
    "X_train, X_test, y_train, y_test = train_test_split(X, y, test_size = 0.25, random_state = 42)\n",
    "\n",
    "print(f\"Train size: {len(X_train)}.\\nTest size: {len(X_test)}.\")"
   ],
   "execution_count":11,
   "outputs":[
    {
     "name":"stdout",
     "text":[
      "Train size: 24388.\n",
      "Test size: 8130.\n"
     ],
     "output_type":"stream"
    }
   ],
   "metadata":{
    "datalore":{
     "type":"CODE",
     "hide_input_from_viewers":false,
     "hide_output_from_viewers":false
    }
   }
  },
  {
   "cell_type":"code",
   "source":[
    "# Train the logistic regression model\n",
    "\n",
    "log_reg = LogisticRegression(max_iter=10000)\n",
    "log_reg.fit(X_train, y_train)"
   ],
   "execution_count":12,
   "outputs":[
    {
     "data":{
      "text\/html":[
       "<style>#sk-container-id-1 {color: black;background-color: white;}#sk-container-id-1 pre{padding: 0;}#sk-container-id-1 div.sk-toggleable {background-color: white;}#sk-container-id-1 label.sk-toggleable__label {cursor: pointer;display: block;width: 100%;margin-bottom: 0;padding: 0.3em;box-sizing: border-box;text-align: center;}#sk-container-id-1 label.sk-toggleable__label-arrow:before {content: \"▸\";float: left;margin-right: 0.25em;color: #696969;}#sk-container-id-1 label.sk-toggleable__label-arrow:hover:before {color: black;}#sk-container-id-1 div.sk-estimator:hover label.sk-toggleable__label-arrow:before {color: black;}#sk-container-id-1 div.sk-toggleable__content {max-height: 0;max-width: 0;overflow: hidden;text-align: left;background-color: #f0f8ff;}#sk-container-id-1 div.sk-toggleable__content pre {margin: 0.2em;color: black;border-radius: 0.25em;background-color: #f0f8ff;}#sk-container-id-1 input.sk-toggleable__control:checked~div.sk-toggleable__content {max-height: 200px;max-width: 100%;overflow: auto;}#sk-container-id-1 input.sk-toggleable__control:checked~label.sk-toggleable__label-arrow:before {content: \"▾\";}#sk-container-id-1 div.sk-estimator input.sk-toggleable__control:checked~label.sk-toggleable__label {background-color: #d4ebff;}#sk-container-id-1 div.sk-label input.sk-toggleable__control:checked~label.sk-toggleable__label {background-color: #d4ebff;}#sk-container-id-1 input.sk-hidden--visually {border: 0;clip: rect(1px 1px 1px 1px);clip: rect(1px, 1px, 1px, 1px);height: 1px;margin: -1px;overflow: hidden;padding: 0;position: absolute;width: 1px;}#sk-container-id-1 div.sk-estimator {font-family: monospace;background-color: #f0f8ff;border: 1px dotted black;border-radius: 0.25em;box-sizing: border-box;margin-bottom: 0.5em;}#sk-container-id-1 div.sk-estimator:hover {background-color: #d4ebff;}#sk-container-id-1 div.sk-parallel-item::after {content: \"\";width: 100%;border-bottom: 1px solid gray;flex-grow: 1;}#sk-container-id-1 div.sk-label:hover label.sk-toggleable__label {background-color: #d4ebff;}#sk-container-id-1 div.sk-serial::before {content: \"\";position: absolute;border-left: 1px solid gray;box-sizing: border-box;top: 0;bottom: 0;left: 50%;z-index: 0;}#sk-container-id-1 div.sk-serial {display: flex;flex-direction: column;align-items: center;background-color: white;padding-right: 0.2em;padding-left: 0.2em;position: relative;}#sk-container-id-1 div.sk-item {position: relative;z-index: 1;}#sk-container-id-1 div.sk-parallel {display: flex;align-items: stretch;justify-content: center;background-color: white;position: relative;}#sk-container-id-1 div.sk-item::before, #sk-container-id-1 div.sk-parallel-item::before {content: \"\";position: absolute;border-left: 1px solid gray;box-sizing: border-box;top: 0;bottom: 0;left: 50%;z-index: -1;}#sk-container-id-1 div.sk-parallel-item {display: flex;flex-direction: column;z-index: 1;position: relative;background-color: white;}#sk-container-id-1 div.sk-parallel-item:first-child::after {align-self: flex-end;width: 50%;}#sk-container-id-1 div.sk-parallel-item:last-child::after {align-self: flex-start;width: 50%;}#sk-container-id-1 div.sk-parallel-item:only-child::after {width: 0;}#sk-container-id-1 div.sk-dashed-wrapped {border: 1px dashed gray;margin: 0 0.4em 0.5em 0.4em;box-sizing: border-box;padding-bottom: 0.4em;background-color: white;}#sk-container-id-1 div.sk-label label {font-family: monospace;font-weight: bold;display: inline-block;line-height: 1.2em;}#sk-container-id-1 div.sk-label-container {text-align: center;}#sk-container-id-1 div.sk-container {\/* jupyter's `normalize.less` sets `[hidden] { display: none; }` but bootstrap.min.css set `[hidden] { display: none !important; }` so we also need the `!important` here to be able to override the default hidden behavior on the sphinx rendered scikit-learn.org. See: https:\/\/github.com\/scikit-learn\/scikit-learn\/issues\/21755 *\/display: inline-block !important;position: relative;}#sk-container-id-1 div.sk-text-repr-fallback {display: none;}<\/style><div id=\"sk-container-id-1\" class=\"sk-top-container\"><div class=\"sk-text-repr-fallback\"><pre>LogisticRegression(max_iter=10000)<\/pre><b>In a Jupyter environment, please rerun this cell to show the HTML representation or trust the notebook. <br \/>On GitHub, the HTML representation is unable to render, please try loading this page with nbviewer.org.<\/b><\/div><div class=\"sk-container\" hidden><div class=\"sk-item\"><div class=\"sk-estimator sk-toggleable\"><input class=\"sk-toggleable__control sk-hidden--visually\" id=\"sk-estimator-id-1\" type=\"checkbox\" checked><label for=\"sk-estimator-id-1\" class=\"sk-toggleable__label sk-toggleable__label-arrow\">LogisticRegression<\/label><div class=\"sk-toggleable__content\"><pre>LogisticRegression(max_iter=10000)<\/pre><\/div><\/div><\/div><\/div><\/div>"
      ]
     },
     "metadata":{
      
     },
     "output_type":"display_data"
    }
   ],
   "metadata":{
    "datalore":{
     "type":"CODE",
     "hide_input_from_viewers":false,
     "hide_output_from_viewers":false
    }
   }
  },
  {
   "cell_type":"code",
   "source":[
    "# Predict the target variable\n",
    "\n",
    "y_pred = log_reg.predict(X_test)"
   ],
   "execution_count":13,
   "outputs":[
    
   ],
   "metadata":{
    "datalore":{
     "type":"CODE",
     "hide_input_from_viewers":false,
     "hide_output_from_viewers":false
    }
   }
  },
  {
   "cell_type":"code",
   "source":[
    "# Print the accuracy score in percentage terms.\n",
    "\n",
    "print('Model accuracy score : {0:0.4f}'. format(accuracy_score(y_test, y_pred)))"
   ],
   "execution_count":14,
   "outputs":[
    {
     "name":"stdout",
     "text":[
      "Model accuracy score with 10 decision-trees : 0.9460\n"
     ],
     "output_type":"stream"
    }
   ],
   "metadata":{
    "datalore":{
     "type":"CODE",
     "hide_input_from_viewers":false,
     "hide_output_from_viewers":false
    }
   }
  },
  {
   "cell_type":"code",
   "source":[
    "# Get importance\n",
    "importance = log_reg.coef_[0]\n",
    "\n",
    "# Summarize feature importance\n",
    "for i,v in enumerate(importance):\n",
    "\tprint(f'Feature: {X_train.columns[i]}, Score: %.4f' % (v))"
   ],
   "execution_count":15,
   "outputs":[
    {
     "name":"stdout",
     "text":[
      "Feature: mean, Score: 0.0269\n",
      "Feature: stand_deviation, Score: -0.0287\n",
      "Feature: kurtosis, Score: 7.0399\n",
      "Feature: skewness, Score: -0.6655\n",
      "Feature: mean_DM.SNR, Score: -0.0282\n",
      "Feature: stand_deviation_DM.SNR, Score: 0.0766\n",
      "Feature: kurtosis_DM.SNR, Score: 0.2594\n",
      "Feature: skewness_DM.SNR, Score: -0.0090\n"
     ],
     "output_type":"stream"
    }
   ],
   "metadata":{
    "datalore":{
     "type":"CODE",
     "hide_input_from_viewers":false,
     "hide_output_from_viewers":false
    }
   }
  },
  {
   "cell_type":"code",
   "source":[
    "#Print classification report\n",
    "\n",
    "print(classification_report(y_test, y_pred))"
   ],
   "execution_count":16,
   "outputs":[
    {
     "name":"stdout",
     "text":[
      "              precision    recall  f1-score   support\n",
      "\n",
      "           0       0.92      0.97      0.95      4108\n",
      "           1       0.97      0.92      0.94      4022\n",
      "\n",
      "    accuracy                           0.95      8130\n",
      "   macro avg       0.95      0.95      0.95      8130\n",
      "weighted avg       0.95      0.95      0.95      8130\n",
      "\n"
     ],
     "output_type":"stream"
    }
   ],
   "metadata":{
    "datalore":{
     "type":"CODE",
     "hide_input_from_viewers":false,
     "hide_output_from_viewers":false
    }
   }
  },
  {
   "cell_type":"code",
   "source":[
    "#exporting results to a csv file\n",
    "report = classification_report(y_test, y_pred, output_dict=True)\n",
    "df = pd.DataFrame(report).transpose()\n",
    "print(df)\n",
    "df.to_csv('glm_conf_matrix_python.csv')"
   ],
   "execution_count":20,
   "outputs":[
    {
     "name":"stdout",
     "text":[
      "              precision    recall  f1-score      support\n",
      "0              0.922598  0.974927  0.948041  4108.000000\n",
      "1              0.972816  0.916459  0.943797  4022.000000\n",
      "accuracy       0.946002  0.946002  0.946002     0.946002\n",
      "macro avg      0.947707  0.945693  0.945919  8130.000000\n",
      "weighted avg   0.947442  0.946002  0.945942  8130.000000\n"
     ],
     "output_type":"stream"
    }
   ],
   "metadata":{
    "datalore":{
     "type":"CODE",
     "hide_input_from_viewers":false,
     "hide_output_from_viewers":false
    }
   }
  }
 ],
 "metadata":{
  "datalore":{
   "version":1,
   "computation_mode":"JUPYTER",
   "package_manager":"pip",
   "base_environment":"default",
   "packages":[
    {
     "name":"imblearn",
     "version":"0.0",
     "source":"PIP"
    }
   ]
  }
 },
 "nbformat":4,
 "nbformat_minor":4
}