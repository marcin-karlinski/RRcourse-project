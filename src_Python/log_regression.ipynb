{
 "cells": [
  {
   "cell_type": "code",
   "execution_count": null,
   "metadata": {},
   "outputs": [],
   "source": [
    "#import sklearn\n",
    "import pandas as pd\n",
    "import numpy as np\n",
    "import scipy as sp"
   ]
  },
  {
   "cell_type": "code",
   "execution_count": null,
   "metadata": {},
   "outputs": [],
   "source": [
    "import os\n",
    "os.getcwd()"
   ]
  },
  {
   "cell_type": "code",
   "execution_count": null,
   "metadata": {},
   "outputs": [],
   "source": [
    "#os.chdir('/Users/ola/Desktop/UW/Semester 4/Reproducible Research')\n",
    "path=\"/Users/ola/Desktop/UW/Semester 4/Reproducible Research\"\n",
    "os.chdir(path)\n",
    "\n",
    "\n",
    "df = pd.read_csv(\"pulsar_stars.csv\",\n",
    "                 sep    = \",\",\n",
    "                 header = 1)"
   ]
  },
  {
   "cell_type": "code",
   "execution_count": null,
   "metadata": {},
   "outputs": [],
   "source": [
    "#or this method"
   ]
  },
  {
   "cell_type": "code",
   "execution_count": null,
   "metadata": {},
   "outputs": [],
   "source": [
    "#read in the file\n",
    "\n",
    "import csv\n",
    "\n",
    "with open('/Users/ola/Downloads/pulsar_stars.csv', 'r') as file:\n",
    "    reader = csv.reader(file, delimiter= ',')\n",
    "    for row in reader:\n",
    "        print(row)"
   ]
  },
  {
   "cell_type": "code",
   "execution_count": null,
   "metadata": {},
   "outputs": [],
   "source": [
    "#or this method "
   ]
  },
  {
   "cell_type": "code",
   "execution_count": null,
   "metadata": {},
   "outputs": [],
   "source": [
    "pulsar_stars = pd.read_csv(r'/Users/ola/Downloads/pulsar_stars.csv')\n",
    "print (df.to_string())"
   ]
  },
  {
   "cell_type": "code",
   "execution_count": null,
   "metadata": {},
   "outputs": [],
   "source": [
    "#change column names\n",
    "\n",
    "pulsar_stars = df.rename({'a': 'X', 'b': 'Y'}, axis='columns')\n",
    "\n",
    "pulsar_stars = df.rename({'Mean of the integrated profile' : 'mean', \n",
    "                          'Standard deviation of the integrated profile' : 'stand_deviation',\n",
    "                         'Excess kurtosis of the integrated profile' : 'kurtosis',\n",
    "                         'Skewness of the integrated profile' : 'skewness',\n",
    "                         'Mean of the DM-SNR curve' : 'mean_DM.SNR',\n",
    "                         'Standard deviation of the DM-SNR curve' : 'stand_deviation_DM.SNR',\n",
    "                         'Excess kurtosis of the DM-SNR curve' : 'kurtosis_DM.SNR',\n",
    "                         'Skewness of the DM-SNR curve' : 'skewness_DM.SNR',\n",
    "                         'target_class' : 'class'}, \n",
    "                         axis = 'columns')\n"
   ]
  },
  {
   "cell_type": "code",
   "execution_count": null,
   "metadata": {},
   "outputs": [],
   "source": [
    "#first model\n",
    "\n",
    "from sklearn import linear_model\n",
    "\n",
    "#independent variables\n",
    "X = pulsar_stars[[\"mean\", \"stand_deviation\", \"kurtosis\", \"skewness\", \"mean_DM.SNR\", \"stand_deviation_DM.SNR\", \n",
    "                  \"kurtosis_DM.SNR\", \"skewness_DM.SNR\"]]\n",
    "\n",
    "#dependent variable\n",
    "y = pulsar_stars[[\"class\"]]\n",
    "\n",
    "logreg = linear_model.LogisticRegression()\n",
    "model1 = logreg.fit(X, y)\n",
    "\n",
    "pulsar_stars.describe()\n",
    "coef = logreg.coef_\n",
    "intercept = logreg.intercept_\n",
    "\n",
    "\n",
    "#vif\n",
    "cc = np.corrcoef(pulsar_stars, rowvar = False)\n",
    "VIF = np.linalg.inv(cc)\n",
    "VIF.diagonal()\n",
    "\n",
    "pulsar_stars2 = pulsar_stars[[\"mean\", \"stand_deviation\", \"kurtosis\", \"skewness\", \n",
    "                              \"mean_DM.SNR\", \"stand_deviation_DM.SNR\", \"class\"]]\n",
    "\n",
    "#as.factor\n",
    "pulsar_stars2['class'], _ = pd.factorize(pulsar_stars2['class'], sort = True)\n",
    "\n",
    "#sample split\n",
    "from sklearn.cross_validation import train_test_split\n",
    "\n",
    "train, test = train_test_split(quality, train_size=0.75, random_state=88)\n",
    "\n",
    "qualityTrain = pd.DataFrame(train, columns = quality.columns)\n",
    "qualityTest = pd.DataFrame(test, columns = quality.columns)"
   ]
  },
  {
   "cell_type": "code",
   "execution_count": null,
   "metadata": {},
   "outputs": [],
   "source": [
    "#second model\n",
    "\n",
    "from sklearn import linear_model\n",
    "\n",
    "#independent variables\n",
    "X = qualityTrain[[\"mean\", \"stand_deviation\", \"kurtosis\", \"skewness\", \"mean_DM.SNR\", \"stand_deviation_DM.SNR\"]]\n",
    "\n",
    "#dependent variable\n",
    "y = qualityTrain[[\"class\"]]\n",
    "\n",
    "logreg = linear_model.LogisticRegression()\n",
    "model2 = logreg.fit(X, y)\n",
    "\n",
    "qualityTrain.describe()\n",
    "coef = logreg.coef_\n",
    "intercept = logreg.intercept_\n",
    "\n",
    "\n",
    "#vif2\n",
    "cc = np.corrcoef(qualityTrain, rowvar = False)\n",
    "VIF = np.linalg.inv(cc)\n",
    "VIF.diagonal()\n",
    "\n",
    "#correlations\n",
    "pulsar_stars2.corr()\n",
    "\n",
    "from biokit.viz import pulsar_stars2\n",
    "c = corrplot.Corrplot(pulsar_stars2)\n",
    "c.plot()\n",
    "\n",
    "#as.factor\n",
    "qualityTest['class'], _ = pd.factorize(qualityTest['class'], sort = True)\n",
    "\n",
    "\n",
    "\n",
    "from pandas.stats.api import ols\n",
    "import matplotlib.pyplot as plt\n",
    "\n",
    "#predict\n",
    "linmodel = ols(y, X)\n",
    "linpred = linmodel.predict(qualityTest)\n",
    "\n",
    "#cut off\n",
    "threshold = Find_Optimal_Cutoff(qualityTest['class'], linpred)\n",
    "\n",
    "\n",
    "\n",
    "def if_this_else_that(x, list_of_checks, yes_label, no_label):\n",
    "    if x in list_of_checks:\n",
    "        res = yes_label\n",
    "    else: \n",
    "        res = no_label\n",
    "    return(res)\n",
    "\n",
    "\n",
    "glm.pred = if_this_else_that(linpred, linpred > 0.1, 1, 0)\n",
    "glm.pred, _ = pd.factorize(glm.pred, sort = True)\n",
    "\n",
    "#ROC Curve\n",
    "import scikitplot as skplt\n",
    "import matplotlib.pyplot as plt\n",
    "skplt.metrics.plot_roc_curve(qualityTest['class'], linpred)\n",
    "plt.show()\n",
    "\n",
    "from sklearn.metrics import roc_curve, auc\n",
    "fpr, tpr,_ = roc_curve(qualityTest['class'], linpred)\n",
    "roc_auc = auc(fpr, tpr)"
   ]
  }
 ],
 "metadata": {
  "kernelspec": {
   "display_name": "Python 3 (ipykernel)",
   "language": "python",
   "name": "python3"
  },
  "language_info": {
   "codemirror_mode": {
    "name": "ipython",
    "version": 3
   },
   "file_extension": ".py",
   "mimetype": "text/x-python",
   "name": "python",
   "nbconvert_exporter": "python",
   "pygments_lexer": "ipython3",
   "version": "3.9.10"
  }
 },
 "nbformat": 4,
 "nbformat_minor": 4
}
