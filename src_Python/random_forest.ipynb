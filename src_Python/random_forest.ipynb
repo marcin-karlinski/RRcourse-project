{
 "cells":[
  {
   "cell_type":"code",
   "source":[
    "# Import required libraries\n",
    "\n",
    "import pandas as pd\n",
    "import numpy as np\n",
    "from sklearn.model_selection import train_test_split\n",
    "from sklearn.ensemble import RandomForestClassifier\n",
    "from sklearn.metrics import accuracy_score, classification_report"
   ],
   "execution_count":2,
   "outputs":[
    
   ],
   "metadata":{
    "datalore":{
     "type":"CODE",
     "hide_input_from_viewers":false,
     "hide_output_from_viewers":false
    }
   }
  },
  {
   "cell_type":"code",
   "source":[
    "# Read the csv\n",
    "\n",
    "pulsar_stars = pd.read_csv(\"pulsar_stars.csv\", delimiter=\",\")\n",
    "pulsar_stars.head()"
   ],
   "execution_count":3,
   "outputs":[
    {
     "data":{
      "text\/html":[
       "<div>\n",
       "<style scoped>\n",
       "    .dataframe tbody tr th:only-of-type {\n",
       "        vertical-align: middle;\n",
       "    }\n",
       "\n",
       "    .dataframe tbody tr th {\n",
       "        vertical-align: top;\n",
       "    }\n",
       "\n",
       "    .dataframe thead th {\n",
       "        text-align: right;\n",
       "    }\n",
       "<\/style>\n",
       "<table border=\"1\" class=\"dataframe\">\n",
       "  <thead>\n",
       "    <tr style=\"text-align: right;\">\n",
       "      <th><\/th>\n",
       "      <th>Mean of the integrated profile<\/th>\n",
       "      <th>Standard deviation of the integrated profile<\/th>\n",
       "      <th>Excess kurtosis of the integrated profile<\/th>\n",
       "      <th>Skewness of the integrated profile<\/th>\n",
       "      <th>Mean of the DM-SNR curve<\/th>\n",
       "      <th>Standard deviation of the DM-SNR curve<\/th>\n",
       "      <th>Excess kurtosis of the DM-SNR curve<\/th>\n",
       "      <th>Skewness of the DM-SNR curve<\/th>\n",
       "      <th>target_class<\/th>\n",
       "    <\/tr>\n",
       "  <\/thead>\n",
       "  <tbody>\n",
       "    <tr>\n",
       "      <th>0<\/th>\n",
       "      <td>140.562500<\/td>\n",
       "      <td>55.683782<\/td>\n",
       "      <td>-0.234571<\/td>\n",
       "      <td>-0.699648<\/td>\n",
       "      <td>3.199833<\/td>\n",
       "      <td>19.110426<\/td>\n",
       "      <td>7.975532<\/td>\n",
       "      <td>74.242225<\/td>\n",
       "      <td>0<\/td>\n",
       "    <\/tr>\n",
       "    <tr>\n",
       "      <th>1<\/th>\n",
       "      <td>102.507812<\/td>\n",
       "      <td>58.882430<\/td>\n",
       "      <td>0.465318<\/td>\n",
       "      <td>-0.515088<\/td>\n",
       "      <td>1.677258<\/td>\n",
       "      <td>14.860146<\/td>\n",
       "      <td>10.576487<\/td>\n",
       "      <td>127.393580<\/td>\n",
       "      <td>0<\/td>\n",
       "    <\/tr>\n",
       "    <tr>\n",
       "      <th>2<\/th>\n",
       "      <td>103.015625<\/td>\n",
       "      <td>39.341649<\/td>\n",
       "      <td>0.323328<\/td>\n",
       "      <td>1.051164<\/td>\n",
       "      <td>3.121237<\/td>\n",
       "      <td>21.744669<\/td>\n",
       "      <td>7.735822<\/td>\n",
       "      <td>63.171909<\/td>\n",
       "      <td>0<\/td>\n",
       "    <\/tr>\n",
       "    <tr>\n",
       "      <th>3<\/th>\n",
       "      <td>136.750000<\/td>\n",
       "      <td>57.178449<\/td>\n",
       "      <td>-0.068415<\/td>\n",
       "      <td>-0.636238<\/td>\n",
       "      <td>3.642977<\/td>\n",
       "      <td>20.959280<\/td>\n",
       "      <td>6.896499<\/td>\n",
       "      <td>53.593661<\/td>\n",
       "      <td>0<\/td>\n",
       "    <\/tr>\n",
       "    <tr>\n",
       "      <th>4<\/th>\n",
       "      <td>88.726562<\/td>\n",
       "      <td>40.672225<\/td>\n",
       "      <td>0.600866<\/td>\n",
       "      <td>1.123492<\/td>\n",
       "      <td>1.178930<\/td>\n",
       "      <td>11.468720<\/td>\n",
       "      <td>14.269573<\/td>\n",
       "      <td>252.567306<\/td>\n",
       "      <td>0<\/td>\n",
       "    <\/tr>\n",
       "  <\/tbody>\n",
       "<\/table>\n",
       "<\/div>"
      ]
     },
     "metadata":{
      
     },
     "output_type":"display_data"
    }
   ],
   "metadata":{
    "datalore":{
     "type":"CODE",
     "hide_input_from_viewers":false,
     "hide_output_from_viewers":false
    }
   }
  },
  {
   "cell_type":"code",
   "source":[
    "# Print the columns\n",
    "\n",
    "pulsar_stars.columns"
   ],
   "execution_count":4,
   "outputs":[
    {
     "data":{
      "text\/plain":[
       "Index([' Mean of the integrated profile',\n",
       "       ' Standard deviation of the integrated profile',\n",
       "       ' Excess kurtosis of the integrated profile',\n",
       "       ' Skewness of the integrated profile', ' Mean of the DM-SNR curve',\n",
       "       ' Standard deviation of the DM-SNR curve',\n",
       "       ' Excess kurtosis of the DM-SNR curve', ' Skewness of the DM-SNR curve',\n",
       "       'target_class'],\n",
       "      dtype='object')"
      ]
     },
     "metadata":{
      
     },
     "output_type":"display_data"
    }
   ],
   "metadata":{
    "datalore":{
     "type":"CODE",
     "hide_input_from_viewers":false,
     "hide_output_from_viewers":false
    }
   }
  },
  {
   "cell_type":"code",
   "source":[
    "# Trim the column names (remove leading\/trailing whitespaces).\n",
    "\n",
    "trimmed_columns = [x.strip() for x in pulsar_stars.columns]\n",
    "pulsar_stars.columns = trimmed_columns\n",
    "pulsar_stars.columns"
   ],
   "execution_count":5,
   "outputs":[
    {
     "data":{
      "text\/plain":[
       "Index(['Mean of the integrated profile',\n",
       "       'Standard deviation of the integrated profile',\n",
       "       'Excess kurtosis of the integrated profile',\n",
       "       'Skewness of the integrated profile', 'Mean of the DM-SNR curve',\n",
       "       'Standard deviation of the DM-SNR curve',\n",
       "       'Excess kurtosis of the DM-SNR curve', 'Skewness of the DM-SNR curve',\n",
       "       'target_class'],\n",
       "      dtype='object')"
      ]
     },
     "metadata":{
      
     },
     "output_type":"display_data"
    }
   ],
   "metadata":{
    "datalore":{
     "type":"CODE",
     "hide_input_from_viewers":false,
     "hide_output_from_viewers":false
    }
   }
  },
  {
   "cell_type":"code",
   "source":[
    "# Rename columns\n",
    "\n",
    "pulsar_stars.columns = [\n",
    "  \"mean\",\n",
    "  \"stand_deviation\",\n",
    "  \"kurtosis\",\n",
    "  \"skewness\",\n",
    "  \"mean_DM.SNR\",\n",
    "  \"stand_deviation_DM.SNR\",\n",
    "  \"kurtosis_DM.SNR\",\n",
    "  \"skewness_DM.SNR\",\n",
    "  \"class\",\n",
    "]\n",
    "pulsar_stars.head()"
   ],
   "execution_count":6,
   "outputs":[
    {
     "data":{
      "text\/html":[
       "<div>\n",
       "<style scoped>\n",
       "    .dataframe tbody tr th:only-of-type {\n",
       "        vertical-align: middle;\n",
       "    }\n",
       "\n",
       "    .dataframe tbody tr th {\n",
       "        vertical-align: top;\n",
       "    }\n",
       "\n",
       "    .dataframe thead th {\n",
       "        text-align: right;\n",
       "    }\n",
       "<\/style>\n",
       "<table border=\"1\" class=\"dataframe\">\n",
       "  <thead>\n",
       "    <tr style=\"text-align: right;\">\n",
       "      <th><\/th>\n",
       "      <th>mean<\/th>\n",
       "      <th>stand_deviation<\/th>\n",
       "      <th>kurtosis<\/th>\n",
       "      <th>skewness<\/th>\n",
       "      <th>mean_DM.SNR<\/th>\n",
       "      <th>stand_deviation_DM.SNR<\/th>\n",
       "      <th>kurtosis_DM.SNR<\/th>\n",
       "      <th>skewness_DM.SNR<\/th>\n",
       "      <th>class<\/th>\n",
       "    <\/tr>\n",
       "  <\/thead>\n",
       "  <tbody>\n",
       "    <tr>\n",
       "      <th>0<\/th>\n",
       "      <td>140.562500<\/td>\n",
       "      <td>55.683782<\/td>\n",
       "      <td>-0.234571<\/td>\n",
       "      <td>-0.699648<\/td>\n",
       "      <td>3.199833<\/td>\n",
       "      <td>19.110426<\/td>\n",
       "      <td>7.975532<\/td>\n",
       "      <td>74.242225<\/td>\n",
       "      <td>0<\/td>\n",
       "    <\/tr>\n",
       "    <tr>\n",
       "      <th>1<\/th>\n",
       "      <td>102.507812<\/td>\n",
       "      <td>58.882430<\/td>\n",
       "      <td>0.465318<\/td>\n",
       "      <td>-0.515088<\/td>\n",
       "      <td>1.677258<\/td>\n",
       "      <td>14.860146<\/td>\n",
       "      <td>10.576487<\/td>\n",
       "      <td>127.393580<\/td>\n",
       "      <td>0<\/td>\n",
       "    <\/tr>\n",
       "    <tr>\n",
       "      <th>2<\/th>\n",
       "      <td>103.015625<\/td>\n",
       "      <td>39.341649<\/td>\n",
       "      <td>0.323328<\/td>\n",
       "      <td>1.051164<\/td>\n",
       "      <td>3.121237<\/td>\n",
       "      <td>21.744669<\/td>\n",
       "      <td>7.735822<\/td>\n",
       "      <td>63.171909<\/td>\n",
       "      <td>0<\/td>\n",
       "    <\/tr>\n",
       "    <tr>\n",
       "      <th>3<\/th>\n",
       "      <td>136.750000<\/td>\n",
       "      <td>57.178449<\/td>\n",
       "      <td>-0.068415<\/td>\n",
       "      <td>-0.636238<\/td>\n",
       "      <td>3.642977<\/td>\n",
       "      <td>20.959280<\/td>\n",
       "      <td>6.896499<\/td>\n",
       "      <td>53.593661<\/td>\n",
       "      <td>0<\/td>\n",
       "    <\/tr>\n",
       "    <tr>\n",
       "      <th>4<\/th>\n",
       "      <td>88.726562<\/td>\n",
       "      <td>40.672225<\/td>\n",
       "      <td>0.600866<\/td>\n",
       "      <td>1.123492<\/td>\n",
       "      <td>1.178930<\/td>\n",
       "      <td>11.468720<\/td>\n",
       "      <td>14.269573<\/td>\n",
       "      <td>252.567306<\/td>\n",
       "      <td>0<\/td>\n",
       "    <\/tr>\n",
       "  <\/tbody>\n",
       "<\/table>\n",
       "<\/div>"
      ]
     },
     "metadata":{
      
     },
     "output_type":"display_data"
    }
   ],
   "metadata":{
    "datalore":{
     "type":"CODE",
     "hide_input_from_viewers":false,
     "hide_output_from_viewers":false
    }
   }
  },
  {
   "cell_type":"code",
   "source":[
    "# Defining training variables, we're taking all the columns\n",
    "# except the last one that is our target variable that we will try to predict.\n",
    "\n",
    "X = pulsar_stars.drop(['class'], axis=1)\n",
    "y = pulsar_stars['class']"
   ],
   "execution_count":7,
   "outputs":[
    
   ],
   "metadata":{
    "datalore":{
     "type":"CODE",
     "hide_input_from_viewers":false,
     "hide_output_from_viewers":false
    }
   }
  },
  {
   "cell_type":"code",
   "source":[
    "# Creating train and test sets\n",
    "\n",
    "X_train, X_test, y_train, y_test = train_test_split(X, y, test_size = 0.25, random_state = 42)\n",
    "\n",
    "print(f\"Train size: {len(X_train)}.\\nTest size: {len(X_test)}.\")"
   ],
   "execution_count":8,
   "outputs":[
    {
     "name":"stdout",
     "text":[
      "Train size: 13423.\n",
      "Test size: 4475.\n"
     ],
     "output_type":"stream"
    }
   ],
   "metadata":{
    "datalore":{
     "type":"CODE",
     "hide_input_from_viewers":false,
     "hide_output_from_viewers":false
    }
   }
  },
  {
   "cell_type":"code",
   "source":[
    "# Initializing Random Forest Regressor and training the model.\n",
    "\n",
    "rf = RandomForestClassifier(n_estimators = 1000, random_state = 42)\n",
    "rf.fit(X_train, y_train)"
   ],
   "execution_count":9,
   "outputs":[
    {
     "data":{
      "text\/plain":[
       "RandomForestClassifier(n_estimators=1000, random_state=42)"
      ]
     },
     "metadata":{
      
     },
     "output_type":"display_data"
    }
   ],
   "metadata":{
    "datalore":{
     "type":"CODE",
     "hide_input_from_viewers":false,
     "hide_output_from_viewers":false
    }
   }
  },
  {
   "cell_type":"code",
   "source":[
    "# Predict the test set\n",
    "\n",
    "y_predictions = rf.predict(X_test)"
   ],
   "execution_count":10,
   "outputs":[
    
   ],
   "metadata":{
    "datalore":{
     "type":"CODE",
     "hide_input_from_viewers":false,
     "hide_output_from_viewers":false
    }
   }
  },
  {
   "cell_type":"code",
   "source":[
    "# Print the accurasy score in percentage terms.\n",
    "\n",
    "print('Model accuracy score with 10 decision-trees : {0:0.4f}'. format(accuracy_score(y_test, y_predictions)))"
   ],
   "execution_count":11,
   "outputs":[
    {
     "name":"stdout",
     "text":[
      "Model accuracy score with 10 decision-trees : 0.9799\n"
     ],
     "output_type":"stream"
    }
   ],
   "metadata":{
    "datalore":{
     "type":"CODE",
     "hide_input_from_viewers":false,
     "hide_output_from_viewers":false
    }
   }
  },
  {
   "cell_type":"code",
   "source":[
    "# Print the most important features\n",
    "\n",
    "feature_scores = pd.Series(rf.feature_importances_, index=X_train.columns).sort_values(ascending=False)\n",
    "feature_scores"
   ],
   "execution_count":12,
   "outputs":[
    {
     "data":{
      "text\/html":[
       
      ]
     },
     "metadata":{
      
     },
     "output_type":"display_data"
    }
   ],
   "metadata":{
    "datalore":{
     "type":"CODE",
     "hide_input_from_viewers":false,
     "hide_output_from_viewers":false
    }
   }
  },
  {
   "cell_type":"code",
   "source":[
    "#Print classification report\n",
    "\n",
    "print(classification_report(y_test, y_predictions))"
   ],
   "execution_count":15,
   "outputs":[
    {
     "name":"stdout",
     "text":[
      "              precision    recall  f1-score   support\n",
      "\n",
      "           0       0.98      0.99      0.99      4070\n",
      "           1       0.94      0.83      0.88       405\n",
      "\n",
      "    accuracy                           0.98      4475\n",
      "   macro avg       0.96      0.91      0.94      4475\n",
      "weighted avg       0.98      0.98      0.98      4475\n",
      "\n"
     ],
     "output_type":"stream"
    }
   ],
   "metadata":{
    "datalore":{
     "type":"CODE",
     "hide_input_from_viewers":false,
     "hide_output_from_viewers":false
    }
   }
  },
  {
   "cell_type":"code",
   "source":[
    "#exporting results to a csv file\n",
    "report = classification_report(y_test, y_predictions, output_dict=True)\n",
    "df = pd.DataFrame(report).transpose()\n",
    "print(df)\n",
    "df.to_csv('rf_conf_matrix_python.csv')"
   ],
   "execution_count":16,
   "outputs":[
    {
     "name":"stdout",
     "text":[
      "              precision    recall  f1-score      support\n",
      "0              0.983479  0.994595  0.989006  4070.000000\n",
      "1              0.938719  0.832099  0.882199   405.000000\n",
      "accuracy       0.979888  0.979888  0.979888     0.979888\n",
      "macro avg      0.961099  0.913347  0.935602  4475.000000\n",
      "weighted avg   0.979428  0.979888  0.979339  4475.000000\n"
     ],
     "output_type":"stream"
    }
   ],
   "metadata":{
    "datalore":{
     "type":"CODE",
     "hide_input_from_viewers":false,
     "hide_output_from_viewers":false
    }
   }
  }
 ],
 "metadata":{
  "datalore":{
   "version":1,
   "computation_mode":"JUPYTER",
   "package_manager":"pip",
   "base_environment":"default",
   "packages":[
    
   ]
  }
 },
 "nbformat":4,
 "nbformat_minor":4
}